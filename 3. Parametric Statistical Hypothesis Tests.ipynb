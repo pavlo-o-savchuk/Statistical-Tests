{
 "cells": [
  {
   "cell_type": "markdown",
   "metadata": {},
   "source": [
    "# Parametric Statistical Hypothesis Tests (to compare data samples)\n",
    "\n",
    "## 1. Student’s t-test\n",
    "Tests whether the average (expected) values of two independent samples are significantly different.\n",
    "\n",
    "**Assumptions**\n",
    "- Observations in each sample are independent and identically distributed.\n",
    "- Observations in each sample are normally distributed.\n",
    "- Observations in each sample have the same variance.\n",
    "\n",
    "**Interpretation**\n",
    "- H0: the mean of the samples are identical.\n",
    "- H1: the means of the samples are not identical.\n",
    "\n",
    "**More Information**\n",
    "- [scipy.stats.ttest_ind](https://docs.scipy.org/doc/scipy/reference/generated/scipy.stats.ttest_ind.html)\n",
    "- [Student’s t-test on Wikipedia](https://en.wikipedia.org/wiki/Student%27s_t-test)"
   ]
  },
  {
   "cell_type": "code",
   "execution_count": 2,
   "metadata": {},
   "outputs": [
    {
     "name": "stdout",
     "output_type": "stream",
     "text": [
      "stat=-0.326, p=0.748\n",
      "Probably the same average values\n"
     ]
    }
   ],
   "source": [
    "# Example of the Student's t-test\n",
    "from scipy.stats import ttest_ind\n",
    "\n",
    "data1 = [0.873, 2.817, 0.121, -0.945, -0.055, -1.436, 0.360, -1.478, -1.637, -1.869]\n",
    "data2 = [1.142, -0.432, -0.938, -0.729, -0.846, -0.157, 0.500, 1.183, -1.075, -0.169]\n",
    "\n",
    "stat, p = ttest_ind(data1, data2)\n",
    "print('stat=%.3f, p=%.3f' % (stat, p))\n",
    "\n",
    "if p > 0.05:\n",
    "    print('Probably the same average values')\n",
    "else:\n",
    "    print('Probably different average values')"
   ]
  },
  {
   "cell_type": "markdown",
   "metadata": {},
   "source": [
    "## 2. Paired Student’s t-test\n",
    "Tests whether two related or repeated samples have identical average (expected) values.\n",
    "Examples for use are scores of the same set of student in different exams, or repeated sampling from the same units. The test measures whether the average score differs significantly across samples (e.g. exams). \n",
    "\n",
    "**Assumptions**\n",
    "- Observations in each sample are independent and identically distributed.\n",
    "- Observations in each sample are normally distributed.\n",
    "- Observations in each sample have the same variance.\n",
    "- Observations across each sample are paired.\n",
    "\n",
    "**Interpretation**\n",
    "- H0: the means of the samples are equal. 2 related or repeated samples have identical average (expected) values.\n",
    "- H1: the means of the samples are unequal.\n",
    "\n",
    "**More Information**\n",
    "- [scipy.stats.ttest_rel](https://docs.scipy.org/doc/scipy/reference/generated/scipy.stats.ttest_rel.html)\n",
    "- [Student’s t-test for paired samples on Wikipedia](https://en.wikipedia.org/wiki/Student%27s_t-test#Dependent_t-test_for_paired_samples)"
   ]
  },
  {
   "cell_type": "code",
   "execution_count": 2,
   "metadata": {},
   "outputs": [
    {
     "name": "stdout",
     "output_type": "stream",
     "text": [
      "stat=-0.300, p=0.771\n",
      "Probably the same average values (and, potentially, the same distribution)\n"
     ]
    }
   ],
   "source": [
    "# Example of the Paired Student's t-test\n",
    "from scipy.stats import ttest_rel\n",
    "data1 = [0.673, 2.617, 0.021, -0.745, -0.067, -1.235, 0.163, -1.287, -1.435, -1.768]\n",
    "data2 = [1.132, -0.421, -0.927, -0.738, -0.926, -0.130, 0.481, 1.161, -1.102, -0.147]\n",
    "stat, p = ttest_rel(data1, data2)\n",
    "print('stat=%.3f, p=%.3f' % (stat, p))\n",
    "if p > 0.05:\n",
    "    print('Probably the same average values (and, potentially, the same distribution)')\n",
    "else:\n",
    "    print('Probably different average values (and different distributions)')"
   ]
  },
  {
   "cell_type": "markdown",
   "metadata": {},
   "source": [
    "## 3. Analysis of Variance Test (ANOVA)\n",
    "Tests whether the means of two or more independent samples are significantly different.\n",
    "\n",
    "**Assumptions**\n",
    "- Observations in each sample are independent and identically distributed.\n",
    "- Observations in each sample are normally distributed.\n",
    "- The standard deviations of the data samples are equal.\n",
    "\n",
    "**Interpretation**\n",
    "- H0: the means of the samples are equal.\n",
    "- H1: one or more of the means of the samples are unequal.\n",
    "\n",
    "**More Information**\n",
    "- [scipy.stats.f_oneway](https://docs.scipy.org/doc/scipy/reference/generated/scipy.stats.f_oneway.html)\n",
    "- [Analysis of variance on Wikipedia](https://en.wikipedia.org/wiki/Analysis_of_variance)"
   ]
  },
  {
   "cell_type": "code",
   "execution_count": 3,
   "metadata": {},
   "outputs": [
    {
     "name": "stdout",
     "output_type": "stream",
     "text": [
      "stat=0.096, p=0.908\n",
      "Probably the same distribution\n"
     ]
    }
   ],
   "source": [
    "# Example of the Analysis of Variance Test (ANOVA)\n",
    "from scipy.stats import f_oneway\n",
    "data1 = [0.873, 2.817, 0.121, -0.945, -0.055, -1.436, 0.360, -1.478, -1.637, -1.869]\n",
    "data2 = [1.142, -0.432, -0.938, -0.729, -0.846, -0.157, 0.500, 1.183, -1.075, -0.169]\n",
    "data3 = [-0.208, 0.696, 0.928, -1.148, -0.213, 0.229, 0.137, 0.269, -0.870, -1.204]\n",
    "stat, p = f_oneway(data1, data2, data3)\n",
    "\n",
    "print('stat=%.3f, p=%.3f' % (stat, p))\n",
    "\n",
    "if p > 0.05:\n",
    "    print('Probably the same distribution')\n",
    "else:\n",
    "    print('Probably different distributions')"
   ]
  },
  {
   "cell_type": "markdown",
   "metadata": {},
   "source": [
    "## 4. Repeated Measures ANOVA Test\n",
    "Tests whether there is a statistically significant difference between the means of three or more groups in which the same subjects show up in each group. Is typically used in two specific situations:\n",
    "1. Measuring the mean scores of subjects during three or more time points.\n",
    "2. Measuring the mean scores of subjects under three different conditions.\n",
    "\n",
    "**Assumptions**\n",
    "- Observations in each sample are independent and identically distributed.\n",
    "- Observations in each sample are normally distributed.\n",
    "- Observations in each sample have the same variance.\n",
    "- Observations across each sample are paired.\n",
    "\n",
    "**Interpretation**\n",
    "- H0: the means of the samples are equal.\n",
    "- H1: at least one of the means is different from the rest.\n",
    "\n",
    "**More Information**\n",
    "- [Analysis of variance on Wikipedia](https://en.wikipedia.org/wiki/Analysis_of_variance)\n",
    "\n",
    "**Python Code**\n",
    "Currently not supported in Python SciPy (though the implementations exist on statsmodels or pingouin)."
   ]
  },
  {
   "cell_type": "code",
   "execution_count": null,
   "metadata": {},
   "outputs": [],
   "source": []
  }
 ],
 "metadata": {
  "kernelspec": {
   "display_name": "Python 3",
   "language": "python",
   "name": "python3"
  },
  "language_info": {
   "codemirror_mode": {
    "name": "ipython",
    "version": 3
   },
   "file_extension": ".py",
   "mimetype": "text/x-python",
   "name": "python",
   "nbconvert_exporter": "python",
   "pygments_lexer": "ipython3",
   "version": "3.7.4"
  }
 },
 "nbformat": 4,
 "nbformat_minor": 1
}
